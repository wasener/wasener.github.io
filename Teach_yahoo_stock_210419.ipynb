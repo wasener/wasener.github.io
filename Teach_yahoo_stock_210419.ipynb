{
 "cells": [
  {
   "cell_type": "code",
   "execution_count": 10,
   "metadata": {},
   "outputs": [],
   "source": [
    "#=============== 奇摩股市案例 ==============\n",
    "import time\n",
    "import csv\n",
    "import requests\n",
    "from bs4 import BeautifulSoup"
   ]
  },
  {
   "cell_type": "code",
   "execution_count": 11,
   "metadata": {},
   "outputs": [],
   "source": [
    "URL= \"https://tw.stock.yahoo.com/q/q?s=\""
   ]
  },
  {
   "cell_type": "code",
   "execution_count": 12,
   "metadata": {},
   "outputs": [],
   "source": [
    "def generate_urls(url, stocks):\n",
    "    urls=[]\n",
    "    for stock in stocks:\n",
    "        urls.append(url+stock)\n",
    "    return urls"
   ]
  },
  {
   "cell_type": "code",
   "execution_count": 13,
   "metadata": {},
   "outputs": [],
   "source": [
    "def get_resource(url):\n",
    "    #模擬瀏覽器\n",
    "    headers={\"user-angent\":\"Mozilla/5.0 (Windows NT 10.0; Win64; x64)\"\n",
    "            \"AppleWebKit/537.36(KHTML, like Gecko)\"\n",
    "            \"Chome/63.0.3239.132 Safari/537.36\"}\n",
    "    return requests.get(url,headers=headers)"
   ]
  },
  {
   "cell_type": "code",
   "execution_count": 14,
   "metadata": {},
   "outputs": [],
   "source": [
    "#web_scraping_bot\n",
    "def parse_html(html_str):\n",
    "    return BeautifulSoup(html_str,\"lxml\")"
   ]
  },
  {
   "cell_type": "code",
   "execution_count": 15,
   "metadata": {},
   "outputs": [],
   "source": [
    "#web_scraping_bot\n",
    "def get_stock(soup, stock_id):\n",
    "    table= soup.find_all(text=\"成交\")[0].parent.parent.parent\n",
    "    status= table.select(\"tr\")[0].select(\"th\")[2].text\n",
    "    name= table.select(\"tr\")[1].select(\"td\")[0].text\n",
    "    price= table.select(\"tr\")[1].select(\"td\")[2].text\n",
    "    yclose= table.select(\"tr\")[1].select(\"td\")[7].text\n",
    "    volume= table.select(\"tr\")[1].select(\"td\")[6].text\n",
    "    high= table.select(\"tr\")[1].select(\"td\")[9].text\n",
    "    low= table.select(\"tr\")[1].select(\"td\")[10].text\n",
    "    return [stock_id, name[4:-6], status, price, yclose, volume, high, low]"
   ]
  },
  {
   "cell_type": "code",
   "execution_count": 16,
   "metadata": {},
   "outputs": [],
   "source": [
    "def save_to_csv(items,file):\n",
    "    with open(file,\"w+\", newline=\"\", encoding=\"utf8\")as fp:\n",
    "        writer= csv.writer(fp)\n",
    "        for item in items:\n",
    "            writer.writerow(item)"
   ]
  },
  {
   "cell_type": "code",
   "execution_count": 17,
   "metadata": {},
   "outputs": [],
   "source": [
    "def web_scraping_bot(urls):\n",
    "    stocks=[[\"代碼\",\"名稱\",\"狀態\",\"股價\",\"昨收\",\"張數\",\"最高\",\"最低\"]]\n",
    "    for url in urls:\n",
    "        stock_id= url.split(\"=\")[-1]\n",
    "        print(\"抓取: \"+stock_id+\" 網路資料中...\")\n",
    "        r= get_resource(url)\n",
    "        if r.status_code == requests.codes.ok:\n",
    "            soup= parse_html(r.text)\n",
    "            stock= get_stock(soup,stock_id)\n",
    "            stocks.append(stock)\n",
    "            print(\"等待5秒鐘\")\n",
    "            time.sleep(5)\n",
    "        else:\n",
    "            print(\"HTTP請求失敗\")\n",
    "    return stocks"
   ]
  },
  {
   "cell_type": "code",
   "execution_count": 18,
   "metadata": {},
   "outputs": [
    {
     "name": "stdout",
     "output_type": "stream",
     "text": [
      "['https://tw.stock.yahoo.com/q/q?s=3711', 'https://tw.stock.yahoo.com/q/q?s=2330', 'https://tw.stock.yahoo.com/q/q?s=2454']\n",
      "抓取: 3711 網路資料中...\n",
      "等待5秒鐘\n",
      "抓取: 2330 網路資料中...\n",
      "等待5秒鐘\n",
      "抓取: 2454 網路資料中...\n",
      "等待5秒鐘\n",
      "['代碼', '名稱', '狀態', '股價', '昨收', '張數', '最高', '最低']\n",
      "['3711', '日月光投控', '成交', '111.5', '113.0', '9,337', '114.5', '111.5']\n",
      "['2330', '台積電', '成交', '603', '610', '24,149', '607', '601']\n",
      "['2454', '聯發科', '成交', '963', '975', '4,547', '985', '962']\n"
     ]
    }
   ],
   "source": [
    "urls= generate_urls(URL,[\"3711\",\"2330\",\"2454\"])\n",
    "print(urls)\n",
    "stocks= web_scraping_bot(urls)\n",
    "for stock in stocks:\n",
    "    print(stock)\n",
    "save_to_csv(stocks,\"Scrapy/stocks.csv\")"
   ]
  }
 ],
 "metadata": {
  "kernelspec": {
   "display_name": "Python 3",
   "language": "python",
   "name": "python3"
  },
  "language_info": {
   "codemirror_mode": {
    "name": "ipython",
    "version": 3
   },
   "file_extension": ".py",
   "mimetype": "text/x-python",
   "name": "python",
   "nbconvert_exporter": "python",
   "pygments_lexer": "ipython3",
   "version": "3.7.5"
  }
 },
 "nbformat": 4,
 "nbformat_minor": 4
}
